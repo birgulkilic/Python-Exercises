{
 "cells": [
  {
   "cell_type": "markdown",
   "id": "30e8736a",
   "metadata": {
    "papermill": {
     "duration": 0.00898,
     "end_time": "2025-02-05T20:40:38.156621",
     "exception": false,
     "start_time": "2025-02-05T20:40:38.147641",
     "status": "completed"
    },
    "tags": []
   },
   "source": [
    "# **Python Exercises**"
   ]
  },
  {
   "cell_type": "markdown",
   "id": "0701eaf7",
   "metadata": {
    "papermill": {
     "duration": 0.008291,
     "end_time": "2025-02-05T20:40:38.174025",
     "exception": false,
     "start_time": "2025-02-05T20:40:38.165734",
     "status": "completed"
    },
    "tags": []
   },
   "source": [
    "**TASK 1: Examine the types of data structures.**"
   ]
  },
  {
   "cell_type": "code",
   "execution_count": 1,
   "id": "7e1eeb8a",
   "metadata": {
    "execution": {
     "iopub.execute_input": "2025-02-05T20:40:38.193176Z",
     "iopub.status.busy": "2025-02-05T20:40:38.192726Z",
     "iopub.status.idle": "2025-02-05T20:40:38.201354Z",
     "shell.execute_reply": "2025-02-05T20:40:38.200096Z"
    },
    "papermill": {
     "duration": 0.021028,
     "end_time": "2025-02-05T20:40:38.203317",
     "exception": false,
     "start_time": "2025-02-05T20:40:38.182289",
     "status": "completed"
    },
    "tags": []
   },
   "outputs": [
    {
     "data": {
      "text/plain": [
       "int"
      ]
     },
     "execution_count": 1,
     "metadata": {},
     "output_type": "execute_result"
    }
   ],
   "source": [
    "x = 8\n",
    "type(x)"
   ]
  },
  {
   "cell_type": "code",
   "execution_count": 2,
   "id": "ce64d07d",
   "metadata": {
    "execution": {
     "iopub.execute_input": "2025-02-05T20:40:38.221883Z",
     "iopub.status.busy": "2025-02-05T20:40:38.221543Z",
     "iopub.status.idle": "2025-02-05T20:40:38.227123Z",
     "shell.execute_reply": "2025-02-05T20:40:38.226282Z"
    },
    "papermill": {
     "duration": 0.016463,
     "end_time": "2025-02-05T20:40:38.228696",
     "exception": false,
     "start_time": "2025-02-05T20:40:38.212233",
     "status": "completed"
    },
    "tags": []
   },
   "outputs": [
    {
     "data": {
      "text/plain": [
       "float"
      ]
     },
     "execution_count": 2,
     "metadata": {},
     "output_type": "execute_result"
    }
   ],
   "source": [
    "\n",
    "y = 3.2\n",
    "type (y)"
   ]
  },
  {
   "cell_type": "code",
   "execution_count": 3,
   "id": "8fffab72",
   "metadata": {
    "execution": {
     "iopub.execute_input": "2025-02-05T20:40:38.247185Z",
     "iopub.status.busy": "2025-02-05T20:40:38.246778Z",
     "iopub.status.idle": "2025-02-05T20:40:38.253079Z",
     "shell.execute_reply": "2025-02-05T20:40:38.251877Z"
    },
    "papermill": {
     "duration": 0.017847,
     "end_time": "2025-02-05T20:40:38.254949",
     "exception": false,
     "start_time": "2025-02-05T20:40:38.237102",
     "status": "completed"
    },
    "tags": []
   },
   "outputs": [
    {
     "data": {
      "text/plain": [
       "complex"
      ]
     },
     "execution_count": 3,
     "metadata": {},
     "output_type": "execute_result"
    }
   ],
   "source": [
    "\n",
    "z = 8j + 18\n",
    "type (z)"
   ]
  },
  {
   "cell_type": "code",
   "execution_count": 4,
   "id": "eb89317b",
   "metadata": {
    "execution": {
     "iopub.execute_input": "2025-02-05T20:40:38.273821Z",
     "iopub.status.busy": "2025-02-05T20:40:38.273494Z",
     "iopub.status.idle": "2025-02-05T20:40:38.279201Z",
     "shell.execute_reply": "2025-02-05T20:40:38.278097Z"
    },
    "papermill": {
     "duration": 0.017344,
     "end_time": "2025-02-05T20:40:38.280830",
     "exception": false,
     "start_time": "2025-02-05T20:40:38.263486",
     "status": "completed"
    },
    "tags": []
   },
   "outputs": [
    {
     "data": {
      "text/plain": [
       "str"
      ]
     },
     "execution_count": 4,
     "metadata": {},
     "output_type": "execute_result"
    }
   ],
   "source": [
    "a = \"Hello World\"\n",
    "type(a)"
   ]
  },
  {
   "cell_type": "code",
   "execution_count": 5,
   "id": "c728a0ba",
   "metadata": {
    "execution": {
     "iopub.execute_input": "2025-02-05T20:40:38.299305Z",
     "iopub.status.busy": "2025-02-05T20:40:38.298908Z",
     "iopub.status.idle": "2025-02-05T20:40:38.304411Z",
     "shell.execute_reply": "2025-02-05T20:40:38.303475Z"
    },
    "papermill": {
     "duration": 0.016674,
     "end_time": "2025-02-05T20:40:38.306160",
     "exception": false,
     "start_time": "2025-02-05T20:40:38.289486",
     "status": "completed"
    },
    "tags": []
   },
   "outputs": [
    {
     "data": {
      "text/plain": [
       "bool"
      ]
     },
     "execution_count": 5,
     "metadata": {},
     "output_type": "execute_result"
    }
   ],
   "source": [
    "b = True\n",
    "type(b)"
   ]
  },
  {
   "cell_type": "code",
   "execution_count": 6,
   "id": "6cc4491c",
   "metadata": {
    "execution": {
     "iopub.execute_input": "2025-02-05T20:40:38.324870Z",
     "iopub.status.busy": "2025-02-05T20:40:38.324533Z",
     "iopub.status.idle": "2025-02-05T20:40:38.330385Z",
     "shell.execute_reply": "2025-02-05T20:40:38.329376Z"
    },
    "papermill": {
     "duration": 0.01717,
     "end_time": "2025-02-05T20:40:38.332011",
     "exception": false,
     "start_time": "2025-02-05T20:40:38.314841",
     "status": "completed"
    },
    "tags": []
   },
   "outputs": [
    {
     "data": {
      "text/plain": [
       "bool"
      ]
     },
     "execution_count": 6,
     "metadata": {},
     "output_type": "execute_result"
    }
   ],
   "source": [
    "c = 23 < 22\n",
    "type(c)"
   ]
  },
  {
   "cell_type": "code",
   "execution_count": 7,
   "id": "cc87f1c7",
   "metadata": {
    "execution": {
     "iopub.execute_input": "2025-02-05T20:40:38.350658Z",
     "iopub.status.busy": "2025-02-05T20:40:38.350315Z",
     "iopub.status.idle": "2025-02-05T20:40:38.356447Z",
     "shell.execute_reply": "2025-02-05T20:40:38.355386Z"
    },
    "papermill": {
     "duration": 0.017486,
     "end_time": "2025-02-05T20:40:38.358294",
     "exception": false,
     "start_time": "2025-02-05T20:40:38.340808",
     "status": "completed"
    },
    "tags": []
   },
   "outputs": [
    {
     "data": {
      "text/plain": [
       "list"
      ]
     },
     "execution_count": 7,
     "metadata": {},
     "output_type": "execute_result"
    }
   ],
   "source": [
    "l = [1, 2, 3, 4,\"String\",3.2, False]\n",
    "type(l)"
   ]
  },
  {
   "cell_type": "code",
   "execution_count": 8,
   "id": "5ca6e232",
   "metadata": {
    "execution": {
     "iopub.execute_input": "2025-02-05T20:40:38.377574Z",
     "iopub.status.busy": "2025-02-05T20:40:38.377240Z",
     "iopub.status.idle": "2025-02-05T20:40:38.383304Z",
     "shell.execute_reply": "2025-02-05T20:40:38.382283Z"
    },
    "papermill": {
     "duration": 0.017884,
     "end_time": "2025-02-05T20:40:38.385106",
     "exception": false,
     "start_time": "2025-02-05T20:40:38.367222",
     "status": "completed"
    },
    "tags": []
   },
   "outputs": [
    {
     "data": {
      "text/plain": [
       "dict"
      ]
     },
     "execution_count": 8,
     "metadata": {},
     "output_type": "execute_result"
    }
   ],
   "source": [
    "d = {\"Name\": \"Jake\",\n",
    "     \"Age\": [27,56],\n",
    "     \"Adress\": \"Downtown\"}\n",
    "type(d)"
   ]
  },
  {
   "cell_type": "code",
   "execution_count": 9,
   "id": "62148d67",
   "metadata": {
    "execution": {
     "iopub.execute_input": "2025-02-05T20:40:38.404100Z",
     "iopub.status.busy": "2025-02-05T20:40:38.403724Z",
     "iopub.status.idle": "2025-02-05T20:40:38.409192Z",
     "shell.execute_reply": "2025-02-05T20:40:38.408350Z"
    },
    "papermill": {
     "duration": 0.016935,
     "end_time": "2025-02-05T20:40:38.410858",
     "exception": false,
     "start_time": "2025-02-05T20:40:38.393923",
     "status": "completed"
    },
    "tags": []
   },
   "outputs": [
    {
     "data": {
      "text/plain": [
       "tuple"
      ]
     },
     "execution_count": 9,
     "metadata": {},
     "output_type": "execute_result"
    }
   ],
   "source": [
    "t = (\"Machine Learning\", \"Data Science\")\n",
    "type(t)"
   ]
  },
  {
   "cell_type": "code",
   "execution_count": 10,
   "id": "72278827",
   "metadata": {
    "execution": {
     "iopub.execute_input": "2025-02-05T20:40:38.429852Z",
     "iopub.status.busy": "2025-02-05T20:40:38.429519Z",
     "iopub.status.idle": "2025-02-05T20:40:38.435303Z",
     "shell.execute_reply": "2025-02-05T20:40:38.434090Z"
    },
    "papermill": {
     "duration": 0.017113,
     "end_time": "2025-02-05T20:40:38.437004",
     "exception": false,
     "start_time": "2025-02-05T20:40:38.419891",
     "status": "completed"
    },
    "tags": []
   },
   "outputs": [
    {
     "data": {
      "text/plain": [
       "set"
      ]
     },
     "execution_count": 10,
     "metadata": {},
     "output_type": "execute_result"
    }
   ],
   "source": [
    "s = {\"Python\", \"Machine Learning\", \"Data Science\",\"Python\"}\n",
    "type(s)"
   ]
  },
  {
   "cell_type": "markdown",
   "id": "3f3be187",
   "metadata": {
    "papermill": {
     "duration": 0.008558,
     "end_time": "2025-02-05T20:40:38.455175",
     "exception": false,
     "start_time": "2025-02-05T20:40:38.446617",
     "status": "completed"
    },
    "tags": []
   },
   "source": [
    "**TASK 2: Convert all letters of the given string expression to uppercase. Put space instead of commas and periods, separate them word by word.**"
   ]
  },
  {
   "cell_type": "code",
   "execution_count": 11,
   "id": "6802bce5",
   "metadata": {
    "execution": {
     "iopub.execute_input": "2025-02-05T20:40:38.474537Z",
     "iopub.status.busy": "2025-02-05T20:40:38.474049Z",
     "iopub.status.idle": "2025-02-05T20:40:38.481242Z",
     "shell.execute_reply": "2025-02-05T20:40:38.479779Z"
    },
    "papermill": {
     "duration": 0.019264,
     "end_time": "2025-02-05T20:40:38.483338",
     "exception": false,
     "start_time": "2025-02-05T20:40:38.464074",
     "status": "completed"
    },
    "tags": []
   },
   "outputs": [
    {
     "name": "stdout",
     "output_type": "stream",
     "text": [
      "['THE', 'GOAL', 'IS', 'TO', 'TURN', 'DATA', 'INTO', 'INFORMATION', 'AND', 'INFORMATION', 'INTO', 'INSIGHT']\n"
     ]
    }
   ],
   "source": [
    "text = \"The goal is to turn data into information, and information into insight.\"\n",
    "text = text.upper()\n",
    "kelimeler = text.replace(\",\", \" \").replace(\".\", \" \").split()\n",
    "print(kelimeler)"
   ]
  },
  {
   "cell_type": "markdown",
   "id": "3c610f42",
   "metadata": {
    "papermill": {
     "duration": 0.009064,
     "end_time": "2025-02-05T20:40:38.502019",
     "exception": false,
     "start_time": "2025-02-05T20:40:38.492955",
     "status": "completed"
    },
    "tags": []
   },
   "source": [
    "**TASK 3: Perform the following tasks for the given list.**"
   ]
  },
  {
   "cell_type": "markdown",
   "id": "62c94a91",
   "metadata": {
    "papermill": {
     "duration": 0.009082,
     "end_time": "2025-02-05T20:40:38.520221",
     "exception": false,
     "start_time": "2025-02-05T20:40:38.511139",
     "status": "completed"
    },
    "tags": []
   },
   "source": [
    "lst = [\"D\",\"A\",\"T\",\"A\",\"S\",\"C\",\"I\",\"E\",\"N\",\"C\",\"E\"]"
   ]
  },
  {
   "cell_type": "markdown",
   "id": "b164c37d",
   "metadata": {
    "papermill": {
     "duration": 0.00871,
     "end_time": "2025-02-05T20:40:38.538814",
     "exception": false,
     "start_time": "2025-02-05T20:40:38.530104",
     "status": "completed"
    },
    "tags": []
   },
   "source": [
    "**Step 1: Look at the number of elements of the given list.**"
   ]
  },
  {
   "cell_type": "code",
   "execution_count": 12,
   "id": "3b88a52a",
   "metadata": {
    "execution": {
     "iopub.execute_input": "2025-02-05T20:40:38.558850Z",
     "iopub.status.busy": "2025-02-05T20:40:38.558520Z",
     "iopub.status.idle": "2025-02-05T20:40:38.565307Z",
     "shell.execute_reply": "2025-02-05T20:40:38.564062Z"
    },
    "papermill": {
     "duration": 0.018984,
     "end_time": "2025-02-05T20:40:38.567414",
     "exception": false,
     "start_time": "2025-02-05T20:40:38.548430",
     "status": "completed"
    },
    "tags": []
   },
   "outputs": [
    {
     "data": {
      "text/plain": [
       "11"
      ]
     },
     "execution_count": 12,
     "metadata": {},
     "output_type": "execute_result"
    }
   ],
   "source": [
    "lst = [\"D\",\"A\",\"T\",\"A\",\"S\",\"C\",\"I\",\"E\",\"N\",\"C\",\"E\"]\n",
    "len (lst)"
   ]
  },
  {
   "cell_type": "markdown",
   "id": "4ba5128b",
   "metadata": {
    "papermill": {
     "duration": 0.009317,
     "end_time": "2025-02-05T20:40:38.586800",
     "exception": false,
     "start_time": "2025-02-05T20:40:38.577483",
     "status": "completed"
    },
    "tags": []
   },
   "source": [
    "**Step 2: Call the elements at the zeroth and tenth index.**"
   ]
  },
  {
   "cell_type": "code",
   "execution_count": 13,
   "id": "6da09547",
   "metadata": {
    "execution": {
     "iopub.execute_input": "2025-02-05T20:40:38.606643Z",
     "iopub.status.busy": "2025-02-05T20:40:38.606280Z",
     "iopub.status.idle": "2025-02-05T20:40:38.612032Z",
     "shell.execute_reply": "2025-02-05T20:40:38.611102Z"
    },
    "papermill": {
     "duration": 0.017844,
     "end_time": "2025-02-05T20:40:38.613705",
     "exception": false,
     "start_time": "2025-02-05T20:40:38.595861",
     "status": "completed"
    },
    "tags": []
   },
   "outputs": [
    {
     "name": "stdout",
     "output_type": "stream",
     "text": [
      "D E\n"
     ]
    }
   ],
   "source": [
    "lst = [\"D\",\"A\",\"T\",\"A\",\"S\",\"C\",\"I\",\"E\",\"N\",\"C\",\"E\"]\n",
    "print(lst[0], lst[10])"
   ]
  },
  {
   "cell_type": "markdown",
   "id": "3f68a0d5",
   "metadata": {
    "papermill": {
     "duration": 0.009074,
     "end_time": "2025-02-05T20:40:38.632121",
     "exception": false,
     "start_time": "2025-02-05T20:40:38.623047",
     "status": "completed"
    },
    "tags": []
   },
   "source": [
    "**Step 3: Create list [\"D\",\"A\",\"T\",\"A\"] from the given list.**"
   ]
  },
  {
   "cell_type": "code",
   "execution_count": 14,
   "id": "6d27749c",
   "metadata": {
    "execution": {
     "iopub.execute_input": "2025-02-05T20:40:38.652154Z",
     "iopub.status.busy": "2025-02-05T20:40:38.651736Z",
     "iopub.status.idle": "2025-02-05T20:40:38.658012Z",
     "shell.execute_reply": "2025-02-05T20:40:38.657080Z"
    },
    "papermill": {
     "duration": 0.018047,
     "end_time": "2025-02-05T20:40:38.659699",
     "exception": false,
     "start_time": "2025-02-05T20:40:38.641652",
     "status": "completed"
    },
    "tags": []
   },
   "outputs": [
    {
     "data": {
      "text/plain": [
       "['D', 'A', 'T', 'A']"
      ]
     },
     "execution_count": 14,
     "metadata": {},
     "output_type": "execute_result"
    }
   ],
   "source": [
    "lst = [\"D\",\"A\",\"T\",\"A\",\"S\",\"C\",\"I\",\"E\",\"N\",\"C\",\"E\"]\n",
    "lst [:4]"
   ]
  },
  {
   "cell_type": "markdown",
   "id": "50a4187b",
   "metadata": {
    "papermill": {
     "duration": 0.009001,
     "end_time": "2025-02-05T20:40:38.678207",
     "exception": false,
     "start_time": "2025-02-05T20:40:38.669206",
     "status": "completed"
    },
    "tags": []
   },
   "source": [
    "**Step 4: Delete the element at the eighth index.**"
   ]
  },
  {
   "cell_type": "code",
   "execution_count": 15,
   "id": "cfc2bc86",
   "metadata": {
    "execution": {
     "iopub.execute_input": "2025-02-05T20:40:38.698394Z",
     "iopub.status.busy": "2025-02-05T20:40:38.698044Z",
     "iopub.status.idle": "2025-02-05T20:40:38.704085Z",
     "shell.execute_reply": "2025-02-05T20:40:38.703198Z"
    },
    "papermill": {
     "duration": 0.017834,
     "end_time": "2025-02-05T20:40:38.705747",
     "exception": false,
     "start_time": "2025-02-05T20:40:38.687913",
     "status": "completed"
    },
    "tags": []
   },
   "outputs": [
    {
     "data": {
      "text/plain": [
       "'N'"
      ]
     },
     "execution_count": 15,
     "metadata": {},
     "output_type": "execute_result"
    }
   ],
   "source": [
    "lst = [\"D\",\"A\",\"T\",\"A\",\"S\",\"C\",\"I\",\"E\",\"N\",\"C\",\"E\"]\n",
    "lst.pop(8)"
   ]
  },
  {
   "cell_type": "markdown",
   "id": "9d594c5f",
   "metadata": {
    "papermill": {
     "duration": 0.00935,
     "end_time": "2025-02-05T20:40:38.724771",
     "exception": false,
     "start_time": "2025-02-05T20:40:38.715421",
     "status": "completed"
    },
    "tags": []
   },
   "source": [
    "**Step 5: Add a new element.**"
   ]
  },
  {
   "cell_type": "code",
   "execution_count": 16,
   "id": "44a8a6ba",
   "metadata": {
    "execution": {
     "iopub.execute_input": "2025-02-05T20:40:38.745140Z",
     "iopub.status.busy": "2025-02-05T20:40:38.744753Z",
     "iopub.status.idle": "2025-02-05T20:40:38.749633Z",
     "shell.execute_reply": "2025-02-05T20:40:38.748408Z"
    },
    "papermill": {
     "duration": 0.017072,
     "end_time": "2025-02-05T20:40:38.751331",
     "exception": false,
     "start_time": "2025-02-05T20:40:38.734259",
     "status": "completed"
    },
    "tags": []
   },
   "outputs": [
    {
     "name": "stdout",
     "output_type": "stream",
     "text": [
      "['D', 'A', 'T', 'A', 'S', 'C', 'I', 'E', 'C', 'E', 'W']\n"
     ]
    }
   ],
   "source": [
    "lst.append(\"W\")\n",
    "print(lst)"
   ]
  },
  {
   "cell_type": "markdown",
   "id": "593c7818",
   "metadata": {
    "papermill": {
     "duration": 0.009174,
     "end_time": "2025-02-05T20:40:38.769930",
     "exception": false,
     "start_time": "2025-02-05T20:40:38.760756",
     "status": "completed"
    },
    "tags": []
   },
   "source": [
    "**Step 6: Add element \"N\" again to the eighth index.\n",
    "lst.insert(8,\"N\")\n",
    "print(lst)**"
   ]
  },
  {
   "cell_type": "code",
   "execution_count": 17,
   "id": "a374036a",
   "metadata": {
    "execution": {
     "iopub.execute_input": "2025-02-05T20:40:38.790708Z",
     "iopub.status.busy": "2025-02-05T20:40:38.790333Z",
     "iopub.status.idle": "2025-02-05T20:40:38.795982Z",
     "shell.execute_reply": "2025-02-05T20:40:38.794805Z"
    },
    "papermill": {
     "duration": 0.01769,
     "end_time": "2025-02-05T20:40:38.797792",
     "exception": false,
     "start_time": "2025-02-05T20:40:38.780102",
     "status": "completed"
    },
    "tags": []
   },
   "outputs": [
    {
     "name": "stdout",
     "output_type": "stream",
     "text": [
      "['D', 'A', 'T', 'A', 'S', 'C', 'I', 'E', 'N', 'C', 'E', 'W']\n"
     ]
    }
   ],
   "source": [
    "lst.insert(8,\"N\")\n",
    "print(lst)"
   ]
  },
  {
   "cell_type": "markdown",
   "id": "efd7afe0",
   "metadata": {
    "papermill": {
     "duration": 0.009374,
     "end_time": "2025-02-05T20:40:38.817597",
     "exception": false,
     "start_time": "2025-02-05T20:40:38.808223",
     "status": "completed"
    },
    "tags": []
   },
   "source": [
    "**TASK 4: Apply the following steps to the given dictionary structure.**"
   ]
  },
  {
   "cell_type": "markdown",
   "id": "a3e6bb68",
   "metadata": {
    "papermill": {
     "duration": 0.00904,
     "end_time": "2025-02-05T20:40:38.836686",
     "exception": false,
     "start_time": "2025-02-05T20:40:38.827646",
     "status": "completed"
    },
    "tags": []
   },
   "source": [
    "**Step 1: Access key values.**"
   ]
  },
  {
   "cell_type": "code",
   "execution_count": 18,
   "id": "46130c1a",
   "metadata": {
    "execution": {
     "iopub.execute_input": "2025-02-05T20:40:38.856738Z",
     "iopub.status.busy": "2025-02-05T20:40:38.856397Z",
     "iopub.status.idle": "2025-02-05T20:40:38.861375Z",
     "shell.execute_reply": "2025-02-05T20:40:38.860254Z"
    },
    "papermill": {
     "duration": 0.017028,
     "end_time": "2025-02-05T20:40:38.863140",
     "exception": false,
     "start_time": "2025-02-05T20:40:38.846112",
     "status": "completed"
    },
    "tags": []
   },
   "outputs": [
    {
     "name": "stdout",
     "output_type": "stream",
     "text": [
      "dict_keys(['Christian', 'Daisy', 'Antonio', 'Dante'])\n"
     ]
    }
   ],
   "source": [
    "dict = {'Christian': [\"America\",18],\n",
    "        'Daisy':[\"England\",12],\n",
    "        'Antonio':[\"Spain\",22],\n",
    "        'Dante':[\"Italy\",25]}\n",
    "\n",
    "print(dict.keys())"
   ]
  },
  {
   "cell_type": "markdown",
   "id": "28b6f158",
   "metadata": {
    "papermill": {
     "duration": 0.009721,
     "end_time": "2025-02-05T20:40:38.882561",
     "exception": false,
     "start_time": "2025-02-05T20:40:38.872840",
     "status": "completed"
    },
    "tags": []
   },
   "source": [
    "**Step 2: Access the values.**"
   ]
  },
  {
   "cell_type": "code",
   "execution_count": 19,
   "id": "0fa8ba7c",
   "metadata": {
    "execution": {
     "iopub.execute_input": "2025-02-05T20:40:38.902917Z",
     "iopub.status.busy": "2025-02-05T20:40:38.902586Z",
     "iopub.status.idle": "2025-02-05T20:40:38.907666Z",
     "shell.execute_reply": "2025-02-05T20:40:38.906494Z"
    },
    "papermill": {
     "duration": 0.017324,
     "end_time": "2025-02-05T20:40:38.909427",
     "exception": false,
     "start_time": "2025-02-05T20:40:38.892103",
     "status": "completed"
    },
    "tags": []
   },
   "outputs": [
    {
     "name": "stdout",
     "output_type": "stream",
     "text": [
      "dict_values([['America', 18], ['England', 12], ['Spain', 22], ['Italy', 25]])\n"
     ]
    }
   ],
   "source": [
    "print(dict.values())"
   ]
  },
  {
   "cell_type": "markdown",
   "id": "29caa95d",
   "metadata": {
    "papermill": {
     "duration": 0.009331,
     "end_time": "2025-02-05T20:40:38.928561",
     "exception": false,
     "start_time": "2025-02-05T20:40:38.919230",
     "status": "completed"
    },
    "tags": []
   },
   "source": [
    "**Step 3: Update the value of Daisy key 12 to 13.**"
   ]
  },
  {
   "cell_type": "code",
   "execution_count": 20,
   "id": "009d0682",
   "metadata": {
    "execution": {
     "iopub.execute_input": "2025-02-05T20:40:38.949052Z",
     "iopub.status.busy": "2025-02-05T20:40:38.948664Z",
     "iopub.status.idle": "2025-02-05T20:40:38.952996Z",
     "shell.execute_reply": "2025-02-05T20:40:38.951887Z"
    },
    "papermill": {
     "duration": 0.016824,
     "end_time": "2025-02-05T20:40:38.954909",
     "exception": false,
     "start_time": "2025-02-05T20:40:38.938085",
     "status": "completed"
    },
    "tags": []
   },
   "outputs": [],
   "source": [
    "\n",
    "dict [\"Daisy\"] = [\"England\", 13]"
   ]
  },
  {
   "cell_type": "markdown",
   "id": "5c3e0fab",
   "metadata": {
    "papermill": {
     "duration": 0.010011,
     "end_time": "2025-02-05T20:40:38.974859",
     "exception": false,
     "start_time": "2025-02-05T20:40:38.964848",
     "status": "completed"
    },
    "tags": []
   },
   "source": [
    "**Step 4: Add a new value with the key value Ahmet value [Turkey,24].**"
   ]
  },
  {
   "cell_type": "code",
   "execution_count": 21,
   "id": "54420385",
   "metadata": {
    "execution": {
     "iopub.execute_input": "2025-02-05T20:40:38.996481Z",
     "iopub.status.busy": "2025-02-05T20:40:38.996116Z",
     "iopub.status.idle": "2025-02-05T20:40:39.000196Z",
     "shell.execute_reply": "2025-02-05T20:40:38.999280Z"
    },
    "papermill": {
     "duration": 0.017021,
     "end_time": "2025-02-05T20:40:39.002114",
     "exception": false,
     "start_time": "2025-02-05T20:40:38.985093",
     "status": "completed"
    },
    "tags": []
   },
   "outputs": [],
   "source": [
    "dict [\"Ahmet\"] = [\"Turkey\", 24]"
   ]
  },
  {
   "cell_type": "markdown",
   "id": "0922a911",
   "metadata": {
    "papermill": {
     "duration": 0.010329,
     "end_time": "2025-02-05T20:40:39.022197",
     "exception": false,
     "start_time": "2025-02-05T20:40:39.011868",
     "status": "completed"
    },
    "tags": []
   },
   "source": [
    "**Step 5: Delete Antonio from the dictionary.**"
   ]
  },
  {
   "cell_type": "code",
   "execution_count": 22,
   "id": "c7ded8c2",
   "metadata": {
    "execution": {
     "iopub.execute_input": "2025-02-05T20:40:39.042518Z",
     "iopub.status.busy": "2025-02-05T20:40:39.042159Z",
     "iopub.status.idle": "2025-02-05T20:40:39.048011Z",
     "shell.execute_reply": "2025-02-05T20:40:39.047089Z"
    },
    "papermill": {
     "duration": 0.017985,
     "end_time": "2025-02-05T20:40:39.049644",
     "exception": false,
     "start_time": "2025-02-05T20:40:39.031659",
     "status": "completed"
    },
    "tags": []
   },
   "outputs": [
    {
     "data": {
      "text/plain": [
       "['Spain', 22]"
      ]
     },
     "execution_count": 22,
     "metadata": {},
     "output_type": "execute_result"
    }
   ],
   "source": [
    "dict.pop('Antonio')"
   ]
  },
  {
   "cell_type": "code",
   "execution_count": 23,
   "id": "17e19f98",
   "metadata": {
    "execution": {
     "iopub.execute_input": "2025-02-05T20:40:39.070500Z",
     "iopub.status.busy": "2025-02-05T20:40:39.070147Z",
     "iopub.status.idle": "2025-02-05T20:40:39.075135Z",
     "shell.execute_reply": "2025-02-05T20:40:39.074062Z"
    },
    "papermill": {
     "duration": 0.01723,
     "end_time": "2025-02-05T20:40:39.076705",
     "exception": false,
     "start_time": "2025-02-05T20:40:39.059475",
     "status": "completed"
    },
    "tags": []
   },
   "outputs": [
    {
     "name": "stdout",
     "output_type": "stream",
     "text": [
      "{'Christian': ['America', 18], 'Daisy': ['England', 13], 'Dante': ['Italy', 25], 'Ahmet': ['Turkey', 24]}\n"
     ]
    }
   ],
   "source": [
    "print (dict)"
   ]
  },
  {
   "cell_type": "markdown",
   "id": "9516dc46",
   "metadata": {
    "papermill": {
     "duration": 0.009387,
     "end_time": "2025-02-05T20:40:39.096310",
     "exception": false,
     "start_time": "2025-02-05T20:40:39.086923",
     "status": "completed"
    },
    "tags": []
   },
   "source": [
    "**Task 5: Write a function that takes a list as an argument, assigns the odd and even numbers in the list to separate lists, and returns these lists.**"
   ]
  },
  {
   "cell_type": "markdown",
   "id": "046ad26a",
   "metadata": {
    "papermill": {
     "duration": 0.009364,
     "end_time": "2025-02-05T20:40:39.115387",
     "exception": false,
     "start_time": "2025-02-05T20:40:39.106023",
     "status": "completed"
    },
    "tags": []
   },
   "source": [
    "l = [2,13,18,93,22]"
   ]
  },
  {
   "cell_type": "code",
   "execution_count": 24,
   "id": "1b435392",
   "metadata": {
    "execution": {
     "iopub.execute_input": "2025-02-05T20:40:39.135830Z",
     "iopub.status.busy": "2025-02-05T20:40:39.135479Z",
     "iopub.status.idle": "2025-02-05T20:40:39.143185Z",
     "shell.execute_reply": "2025-02-05T20:40:39.142061Z"
    },
    "papermill": {
     "duration": 0.0199,
     "end_time": "2025-02-05T20:40:39.144846",
     "exception": false,
     "start_time": "2025-02-05T20:40:39.124946",
     "status": "completed"
    },
    "tags": []
   },
   "outputs": [
    {
     "name": "stdout",
     "output_type": "stream",
     "text": [
      "Çift Sayılar: [2, 18, 22]\n",
      "Tek Sayılar: [13, 93]\n"
     ]
    }
   ],
   "source": [
    "l = [2,13,18,93,22]\n",
    "\n",
    "def cift_ve_tek_ayir(l):\n",
    "    cift_sayi = []\n",
    "    tek_sayi = []\n",
    "\n",
    "    for new_l in l:\n",
    "        if new_l % 2 == 0:\n",
    "            cift_sayi.append(new_l)\n",
    "        else:\n",
    "            tek_sayi.append(new_l)\n",
    "\n",
    "    return cift_sayi, tek_sayi\n",
    "\n",
    "cift_sayi, tek_sayi = cift_ve_tek_ayir(l)\n",
    "print(\"Çift Sayılar:\", cift_sayi)\n",
    "print(\"Tek Sayılar:\", tek_sayi)"
   ]
  },
  {
   "cell_type": "markdown",
   "id": "19dad575",
   "metadata": {
    "papermill": {
     "duration": 0.00983,
     "end_time": "2025-02-05T20:40:39.164729",
     "exception": false,
     "start_time": "2025-02-05T20:40:39.154899",
     "status": "completed"
    },
    "tags": []
   },
   "source": [
    "**Task 6: The list given below contains the names of the students who were successful in the engineering and medical faculties. While the first three students respectively represent the success ranking of the engineering faculty, the last three students belong to the student ranking of the faculty of medicine. Print student degrees by faculty using Enumarate.**"
   ]
  },
  {
   "cell_type": "markdown",
   "id": "baac8252",
   "metadata": {
    "papermill": {
     "duration": 0.009741,
     "end_time": "2025-02-05T20:40:39.185323",
     "exception": false,
     "start_time": "2025-02-05T20:40:39.175582",
     "status": "completed"
    },
    "tags": []
   },
   "source": [
    "ogrenciler = [\"Ali\",\"Veli\",\"Ayşe\",\"Talat\",\"Zeynep\",\"Ece\"]"
   ]
  },
  {
   "cell_type": "code",
   "execution_count": 25,
   "id": "a1d2aaa2",
   "metadata": {
    "execution": {
     "iopub.execute_input": "2025-02-05T20:40:39.206131Z",
     "iopub.status.busy": "2025-02-05T20:40:39.205760Z",
     "iopub.status.idle": "2025-02-05T20:40:39.213170Z",
     "shell.execute_reply": "2025-02-05T20:40:39.212091Z"
    },
    "papermill": {
     "duration": 0.019706,
     "end_time": "2025-02-05T20:40:39.214906",
     "exception": false,
     "start_time": "2025-02-05T20:40:39.195200",
     "status": "completed"
    },
    "tags": []
   },
   "outputs": [
    {
     "name": "stdout",
     "output_type": "stream",
     "text": [
      "Mühendislik Fakültesi 1. öğrenci: Ali\n",
      "Mühendislik Fakültesi 2. öğrenci: Veli\n",
      "Mühendislik Fakültesi 3. öğrenci: Ayşe\n",
      "Tıp Fakültesi 1. öğrenci: Talat\n",
      "Tıp Fakültesi 2. öğrenci: Zeynep\n",
      "Tıp Fakültesi 3. öğrenci: Ece\n"
     ]
    }
   ],
   "source": [
    "ogrenciler = [\"Ali\",\"Veli\",\"Ayşe\",\"Talat\",\"Zeynep\",\"Ece\"]\n",
    "\n",
    "for i, ogrenci in enumerate(ogrenciler[:3], 1):\n",
    "    print(\"Mühendislik Fakültesi \" + str(i) + \". öğrenci: \" + ogrenci)\n",
    "\n",
    "for i, ogrenci in enumerate(ogrenciler[3:], 1):\n",
    "    print(\"Tıp Fakültesi \" + str(i) + \". öğrenci: \" + ogrenci)"
   ]
  },
  {
   "cell_type": "markdown",
   "id": "f4db6d58",
   "metadata": {
    "papermill": {
     "duration": 0.009285,
     "end_time": "2025-02-05T20:40:39.234362",
     "exception": false,
     "start_time": "2025-02-05T20:40:39.225077",
     "status": "completed"
    },
    "tags": []
   },
   "source": [
    "**TASK 7: Below are 3 lists. The lists contain the code, credit and quota information of a course, respectively. Print the course information using Zip.**"
   ]
  },
  {
   "cell_type": "code",
   "execution_count": 26,
   "id": "f3533fff",
   "metadata": {
    "execution": {
     "iopub.execute_input": "2025-02-05T20:40:39.254785Z",
     "iopub.status.busy": "2025-02-05T20:40:39.254424Z",
     "iopub.status.idle": "2025-02-05T20:40:39.260738Z",
     "shell.execute_reply": "2025-02-05T20:40:39.259737Z"
    },
    "papermill": {
     "duration": 0.018528,
     "end_time": "2025-02-05T20:40:39.262479",
     "exception": false,
     "start_time": "2025-02-05T20:40:39.243951",
     "status": "completed"
    },
    "tags": []
   },
   "outputs": [
    {
     "data": {
      "text/plain": [
       "[('CMP1005', 3, 30),\n",
       " ('PSY1001', 4, 75),\n",
       " ('HUK1005', 2, 150),\n",
       " ('SEN2204', 4, 25)]"
      ]
     },
     "execution_count": 26,
     "metadata": {},
     "output_type": "execute_result"
    }
   ],
   "source": [
    "ders_kodu = [\"CMP1005\",\"PSY1001\",\"HUK1005\",\"SEN2204\"]\n",
    "kredi = [3,4,2,4]\n",
    "kontenjan = [30,75,150,25]\n",
    "\n",
    "list (zip(ders_kodu,kredi,kontenjan))"
   ]
  },
  {
   "cell_type": "markdown",
   "id": "1e7223e7",
   "metadata": {
    "papermill": {
     "duration": 0.009443,
     "end_time": "2025-02-05T20:40:39.281836",
     "exception": false,
     "start_time": "2025-02-05T20:40:39.272393",
     "status": "completed"
    },
    "tags": []
   },
   "source": [
    "**TASK 8: 2 sets are given below. You are expected to define the function that will print the common elements of the 1st set if it covers the 2nd set, and the difference of the 2nd set from the 1st set if it does not.**"
   ]
  },
  {
   "cell_type": "code",
   "execution_count": 27,
   "id": "51e1485e",
   "metadata": {
    "execution": {
     "iopub.execute_input": "2025-02-05T20:40:39.302506Z",
     "iopub.status.busy": "2025-02-05T20:40:39.302165Z",
     "iopub.status.idle": "2025-02-05T20:40:39.308129Z",
     "shell.execute_reply": "2025-02-05T20:40:39.306808Z"
    },
    "papermill": {
     "duration": 0.018334,
     "end_time": "2025-02-05T20:40:39.309820",
     "exception": false,
     "start_time": "2025-02-05T20:40:39.291486",
     "status": "completed"
    },
    "tags": []
   },
   "outputs": [
    {
     "name": "stdout",
     "output_type": "stream",
     "text": [
      "{'qcut', 'lambda', 'miuul', 'function'}\n"
     ]
    }
   ],
   "source": [
    "kume1 = set([\"data\", \"python\"])\n",
    "kume2 = set([\"data\", \"function\", \"qcut\", \"lambda\", \"python\", \"miuul\"])\n",
    "\n",
    "def kume(kume1, kume2):\n",
    "    if kume1.issuperset(kume2):\n",
    "        return kume1.intersection(kume2)\n",
    "    else:\n",
    "        return kume2 - kume1\n",
    "print(kume(kume1, kume2))"
   ]
  }
 ],
 "metadata": {
  "kaggle": {
   "accelerator": "none",
   "dataSources": [],
   "dockerImageVersionId": 30839,
   "isGpuEnabled": false,
   "isInternetEnabled": true,
   "language": "python",
   "sourceType": "notebook"
  },
  "kernelspec": {
   "display_name": "Python 3",
   "language": "python",
   "name": "python3"
  },
  "language_info": {
   "codemirror_mode": {
    "name": "ipython",
    "version": 3
   },
   "file_extension": ".py",
   "mimetype": "text/x-python",
   "name": "python",
   "nbconvert_exporter": "python",
   "pygments_lexer": "ipython3",
   "version": "3.10.12"
  },
  "papermill": {
   "default_parameters": {},
   "duration": 4.617324,
   "end_time": "2025-02-05T20:40:39.840609",
   "environment_variables": {},
   "exception": null,
   "input_path": "__notebook__.ipynb",
   "output_path": "__notebook__.ipynb",
   "parameters": {},
   "start_time": "2025-02-05T20:40:35.223285",
   "version": "2.6.0"
  }
 },
 "nbformat": 4,
 "nbformat_minor": 5
}
